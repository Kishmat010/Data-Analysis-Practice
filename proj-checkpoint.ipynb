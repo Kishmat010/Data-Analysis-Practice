{
 "cells": [
  {
   "cell_type": "code",
   "execution_count": 2,
   "id": "62aab7a3-4813-4d9a-ace9-2ebe7aa6b02d",
   "metadata": {},
   "outputs": [],
   "source": [
    "import pandas as pd\n",
    "import numpy as np\n",
    "import matplotlib.pyplot as plt\n",
    "import seaborn as sns"
   ]
  },
  {
   "cell_type": "code",
   "execution_count": 3,
   "id": "d1040318-1203-45ab-8684-a9e82b44d838",
   "metadata": {},
   "outputs": [],
   "source": [
    "#Importing Data From File Path"
   ]
  },
  {
   "cell_type": "code",
   "execution_count": 5,
   "id": "de948c41-834e-456a-abfa-78da6907dbbb",
   "metadata": {},
   "outputs": [],
   "source": [
    "df=pd.read_csv(r\"C:\\Users\\user\\Downloads\\supermarket_sales_data.csv\")"
   ]
  },
  {
   "cell_type": "code",
   "execution_count": 3,
   "id": "d5e6085d-cbe9-4582-b70d-6e4ed50de4ed",
   "metadata": {
    "scrolled": true
   },
   "outputs": [
    {
     "name": "stdout",
     "output_type": "stream",
     "text": [
      "           Date  Product  Category  Quantity  Unit_Price  Revenue  \\\n",
      "0    2024-02-21   Butter     Dairy        15        7.59   113.85   \n",
      "1    2024-01-21   Apples   Produce        19        1.90    36.10   \n",
      "2    2024-03-28   Butter     Dairy         4        2.29     9.16   \n",
      "3    2024-01-22   Butter     Dairy         2        7.50    15.00   \n",
      "4    2024-02-07    Bread    Bakery         1        3.74     3.74   \n",
      "..          ...      ...       ...       ...         ...      ...   \n",
      "495  2024-03-22  Bananas   Produce         3        4.38    13.14   \n",
      "496  2024-01-29    Juice  Beverage        10        8.07    80.70   \n",
      "497  2024-03-04     Milk     Dairy         9        9.49    85.41   \n",
      "498  2024-02-29  Bananas   Produce         1        8.57     8.57   \n",
      "499  2024-02-29  Bananas   Produce        11        5.46    60.06   \n",
      "\n",
      "    Store_Location  \n",
      "0        Abu Dhabi  \n",
      "1          Sharjah  \n",
      "2          Sharjah  \n",
      "3            Dubai  \n",
      "4            Dubai  \n",
      "..             ...  \n",
      "495         Al Ain  \n",
      "496      Abu Dhabi  \n",
      "497          Dubai  \n",
      "498          Dubai  \n",
      "499         Al Ain  \n",
      "\n",
      "[500 rows x 7 columns]\n"
     ]
    }
   ],
   "source": [
    "print(df)"
   ]
  },
  {
   "cell_type": "markdown",
   "id": "84dcf6ce-defa-468f-a70d-a37d3af5d3d8",
   "metadata": {},
   "source": [
    "#Analysing Data "
   ]
  },
  {
   "cell_type": "code",
   "execution_count": 5,
   "id": "274954b2-b851-4527-985c-7f6c61868f3f",
   "metadata": {},
   "outputs": [
    {
     "name": "stdout",
     "output_type": "stream",
     "text": [
      "<class 'pandas.core.frame.DataFrame'>\n",
      "RangeIndex: 500 entries, 0 to 499\n",
      "Data columns (total 7 columns):\n",
      " #   Column          Non-Null Count  Dtype  \n",
      "---  ------          --------------  -----  \n",
      " 0   Date            500 non-null    object \n",
      " 1   Product         500 non-null    object \n",
      " 2   Category        500 non-null    object \n",
      " 3   Quantity        500 non-null    int64  \n",
      " 4   Unit_Price      500 non-null    float64\n",
      " 5   Revenue         500 non-null    float64\n",
      " 6   Store_Location  500 non-null    object \n",
      "dtypes: float64(2), int64(1), object(4)\n",
      "memory usage: 27.5+ KB\n"
     ]
    }
   ],
   "source": [
    "df.info()"
   ]
  },
  {
   "cell_type": "code",
   "execution_count": 11,
   "id": "293efe58-215d-4b73-838a-581d7ad2108d",
   "metadata": {},
   "outputs": [
    {
     "data": {
      "text/html": [
       "<div>\n",
       "<style scoped>\n",
       "    .dataframe tbody tr th:only-of-type {\n",
       "        vertical-align: middle;\n",
       "    }\n",
       "\n",
       "    .dataframe tbody tr th {\n",
       "        vertical-align: top;\n",
       "    }\n",
       "\n",
       "    .dataframe thead th {\n",
       "        text-align: right;\n",
       "    }\n",
       "</style>\n",
       "<table border=\"1\" class=\"dataframe\">\n",
       "  <thead>\n",
       "    <tr style=\"text-align: right;\">\n",
       "      <th></th>\n",
       "      <th>Quantity</th>\n",
       "      <th>Unit_Price</th>\n",
       "      <th>Revenue</th>\n",
       "    </tr>\n",
       "  </thead>\n",
       "  <tbody>\n",
       "    <tr>\n",
       "      <th>count</th>\n",
       "      <td>500.000000</td>\n",
       "      <td>500.000000</td>\n",
       "      <td>500.00000</td>\n",
       "    </tr>\n",
       "    <tr>\n",
       "      <th>mean</th>\n",
       "      <td>9.710000</td>\n",
       "      <td>5.488780</td>\n",
       "      <td>54.28462</td>\n",
       "    </tr>\n",
       "    <tr>\n",
       "      <th>std</th>\n",
       "      <td>5.576387</td>\n",
       "      <td>2.668764</td>\n",
       "      <td>44.09904</td>\n",
       "    </tr>\n",
       "    <tr>\n",
       "      <th>min</th>\n",
       "      <td>1.000000</td>\n",
       "      <td>1.000000</td>\n",
       "      <td>1.07000</td>\n",
       "    </tr>\n",
       "    <tr>\n",
       "      <th>25%</th>\n",
       "      <td>5.000000</td>\n",
       "      <td>3.067500</td>\n",
       "      <td>18.73750</td>\n",
       "    </tr>\n",
       "    <tr>\n",
       "      <th>50%</th>\n",
       "      <td>10.000000</td>\n",
       "      <td>5.565000</td>\n",
       "      <td>39.75000</td>\n",
       "    </tr>\n",
       "    <tr>\n",
       "      <th>75%</th>\n",
       "      <td>15.000000</td>\n",
       "      <td>7.727500</td>\n",
       "      <td>83.94000</td>\n",
       "    </tr>\n",
       "    <tr>\n",
       "      <th>max</th>\n",
       "      <td>19.000000</td>\n",
       "      <td>9.970000</td>\n",
       "      <td>179.93000</td>\n",
       "    </tr>\n",
       "  </tbody>\n",
       "</table>\n",
       "</div>"
      ],
      "text/plain": [
       "         Quantity  Unit_Price    Revenue\n",
       "count  500.000000  500.000000  500.00000\n",
       "mean     9.710000    5.488780   54.28462\n",
       "std      5.576387    2.668764   44.09904\n",
       "min      1.000000    1.000000    1.07000\n",
       "25%      5.000000    3.067500   18.73750\n",
       "50%     10.000000    5.565000   39.75000\n",
       "75%     15.000000    7.727500   83.94000\n",
       "max     19.000000    9.970000  179.93000"
      ]
     },
     "execution_count": 11,
     "metadata": {},
     "output_type": "execute_result"
    }
   ],
   "source": [
    "df.describe()"
   ]
  },
  {
   "cell_type": "code",
   "execution_count": 12,
   "id": "56bfc8c3-813b-4527-8310-c2b3e78846b9",
   "metadata": {},
   "outputs": [
    {
     "data": {
      "text/plain": [
       "Index(['Date', 'Product', 'Category', 'Quantity', 'Unit_Price', 'Revenue',\n",
       "       'Store_Location'],\n",
       "      dtype='object')"
      ]
     },
     "execution_count": 12,
     "metadata": {},
     "output_type": "execute_result"
    }
   ],
   "source": [
    "df.columns"
   ]
  },
  {
   "cell_type": "code",
   "execution_count": 13,
   "id": "95b1bddb-2382-498c-ac07-b10e4df76507",
   "metadata": {},
   "outputs": [
    {
     "data": {
      "text/html": [
       "<div>\n",
       "<style scoped>\n",
       "    .dataframe tbody tr th:only-of-type {\n",
       "        vertical-align: middle;\n",
       "    }\n",
       "\n",
       "    .dataframe tbody tr th {\n",
       "        vertical-align: top;\n",
       "    }\n",
       "\n",
       "    .dataframe thead th {\n",
       "        text-align: right;\n",
       "    }\n",
       "</style>\n",
       "<table border=\"1\" class=\"dataframe\">\n",
       "  <thead>\n",
       "    <tr style=\"text-align: right;\">\n",
       "      <th></th>\n",
       "      <th>Date</th>\n",
       "      <th>Product</th>\n",
       "      <th>Category</th>\n",
       "      <th>Quantity</th>\n",
       "      <th>Unit_Price</th>\n",
       "      <th>Revenue</th>\n",
       "      <th>Store_Location</th>\n",
       "    </tr>\n",
       "  </thead>\n",
       "  <tbody>\n",
       "    <tr>\n",
       "      <th>0</th>\n",
       "      <td>2024-02-21</td>\n",
       "      <td>Butter</td>\n",
       "      <td>Dairy</td>\n",
       "      <td>15</td>\n",
       "      <td>7.59</td>\n",
       "      <td>113.85</td>\n",
       "      <td>Abu Dhabi</td>\n",
       "    </tr>\n",
       "    <tr>\n",
       "      <th>1</th>\n",
       "      <td>2024-01-21</td>\n",
       "      <td>Apples</td>\n",
       "      <td>Produce</td>\n",
       "      <td>19</td>\n",
       "      <td>1.90</td>\n",
       "      <td>36.10</td>\n",
       "      <td>Sharjah</td>\n",
       "    </tr>\n",
       "    <tr>\n",
       "      <th>2</th>\n",
       "      <td>2024-03-28</td>\n",
       "      <td>Butter</td>\n",
       "      <td>Dairy</td>\n",
       "      <td>4</td>\n",
       "      <td>2.29</td>\n",
       "      <td>9.16</td>\n",
       "      <td>Sharjah</td>\n",
       "    </tr>\n",
       "    <tr>\n",
       "      <th>3</th>\n",
       "      <td>2024-01-22</td>\n",
       "      <td>Butter</td>\n",
       "      <td>Dairy</td>\n",
       "      <td>2</td>\n",
       "      <td>7.50</td>\n",
       "      <td>15.00</td>\n",
       "      <td>Dubai</td>\n",
       "    </tr>\n",
       "    <tr>\n",
       "      <th>4</th>\n",
       "      <td>2024-02-07</td>\n",
       "      <td>Bread</td>\n",
       "      <td>Bakery</td>\n",
       "      <td>1</td>\n",
       "      <td>3.74</td>\n",
       "      <td>3.74</td>\n",
       "      <td>Dubai</td>\n",
       "    </tr>\n",
       "  </tbody>\n",
       "</table>\n",
       "</div>"
      ],
      "text/plain": [
       "         Date Product Category  Quantity  Unit_Price  Revenue Store_Location\n",
       "0  2024-02-21  Butter    Dairy        15        7.59   113.85      Abu Dhabi\n",
       "1  2024-01-21  Apples  Produce        19        1.90    36.10        Sharjah\n",
       "2  2024-03-28  Butter    Dairy         4        2.29     9.16        Sharjah\n",
       "3  2024-01-22  Butter    Dairy         2        7.50    15.00          Dubai\n",
       "4  2024-02-07   Bread   Bakery         1        3.74     3.74          Dubai"
      ]
     },
     "execution_count": 13,
     "metadata": {},
     "output_type": "execute_result"
    }
   ],
   "source": [
    "df.head()"
   ]
  },
  {
   "cell_type": "code",
   "execution_count": 9,
   "id": "a39f4900-7030-4baa-a6d0-9d309241ef03",
   "metadata": {},
   "outputs": [
    {
     "data": {
      "text/plain": [
       "Date              0\n",
       "Product           0\n",
       "Category          0\n",
       "Quantity          0\n",
       "Unit_Price        0\n",
       "Revenue           0\n",
       "Store_Location    0\n",
       "dtype: int64"
      ]
     },
     "execution_count": 9,
     "metadata": {},
     "output_type": "execute_result"
    }
   ],
   "source": [
    "df.isnull().sum()"
   ]
  },
  {
   "cell_type": "code",
   "execution_count": 10,
   "id": "9d379b5d-1968-4db9-811a-64a2382bd16d",
   "metadata": {},
   "outputs": [
    {
     "name": "stdout",
     "output_type": "stream",
     "text": [
      "Series([], dtype: int64)\n"
     ]
    }
   ],
   "source": [
    "empty_shell=df.isnull().sum()\n",
    "empty_shell=empty_shell[empty_shell>0]\n",
    "print(empty_shell)"
   ]
  },
  {
   "cell_type": "code",
   "execution_count": 16,
   "id": "5a967df5-8777-455d-b32b-dd6426ac9d05",
   "metadata": {},
   "outputs": [
    {
     "data": {
      "text/plain": [
       "np.int64(0)"
      ]
     },
     "execution_count": 16,
     "metadata": {},
     "output_type": "execute_result"
    }
   ],
   "source": [
    "df.duplicated().sum()"
   ]
  },
  {
   "cell_type": "markdown",
   "id": "c9063e50-08b7-4b63-8afa-3302d3be087c",
   "metadata": {},
   "source": [
    "#After Analysis\n",
    "After analysis i find that there is one data type mistake (date type is object, which should be date type), the good thing is there is no null values and no duplicate."
   ]
  },
  {
   "cell_type": "markdown",
   "id": "1e614d2b-3ea4-4028-ae9f-ec0d2ccc516d",
   "metadata": {},
   "source": [
    "#Converting Date Type"
   ]
  },
  {
   "cell_type": "code",
   "execution_count": 17,
   "id": "dddbc60b-4bba-4799-ac8f-cc6c353a738d",
   "metadata": {},
   "outputs": [],
   "source": [
    "df['Date']=pd.to_datetime(df['Date'])"
   ]
  },
  {
   "cell_type": "code",
   "execution_count": 18,
   "id": "b0a506ac-defc-4d38-9f7f-af008dbbf72e",
   "metadata": {},
   "outputs": [
    {
     "name": "stdout",
     "output_type": "stream",
     "text": [
      "<class 'pandas.core.frame.DataFrame'>\n",
      "RangeIndex: 500 entries, 0 to 499\n",
      "Data columns (total 7 columns):\n",
      " #   Column          Non-Null Count  Dtype         \n",
      "---  ------          --------------  -----         \n",
      " 0   Date            500 non-null    datetime64[ns]\n",
      " 1   Product         500 non-null    object        \n",
      " 2   Category        500 non-null    object        \n",
      " 3   Quantity        500 non-null    int64         \n",
      " 4   Unit_Price      500 non-null    float64       \n",
      " 5   Revenue         500 non-null    float64       \n",
      " 6   Store_Location  500 non-null    object        \n",
      "dtypes: datetime64[ns](1), float64(2), int64(1), object(3)\n",
      "memory usage: 27.5+ KB\n"
     ]
    }
   ],
   "source": [
    "df.info()"
   ]
  },
  {
   "cell_type": "markdown",
   "id": "46bd20e3-0868-4dd1-b752-c0230c703105",
   "metadata": {},
   "source": [
    "#Jumping to Finding Questions"
   ]
  },
  {
   "cell_type": "markdown",
   "id": "f1eccfed-ef08-4b88-a191-c0f5c4ef2712",
   "metadata": {},
   "source": [
    "1.What is the total revenue per month?"
   ]
  },
  {
   "cell_type": "code",
   "execution_count": 23,
   "id": "2ce3ad44-0a1e-4c78-b129-cef9e6cef740",
   "metadata": {},
   "outputs": [
    {
     "name": "stdout",
     "output_type": "stream",
     "text": [
      "          Date  Product  Category  Quantity  Unit_Price  Revenue  \\\n",
      "0   2024-02-21   Butter     Dairy        15        7.59   113.85   \n",
      "1   2024-01-21   Apples   Produce        19        1.90    36.10   \n",
      "2   2024-03-28   Butter     Dairy         4        2.29     9.16   \n",
      "3   2024-01-22   Butter     Dairy         2        7.50    15.00   \n",
      "4   2024-02-07    Bread    Bakery         1        3.74     3.74   \n",
      "..         ...      ...       ...       ...         ...      ...   \n",
      "495 2024-03-22  Bananas   Produce         3        4.38    13.14   \n",
      "496 2024-01-29    Juice  Beverage        10        8.07    80.70   \n",
      "497 2024-03-04     Milk     Dairy         9        9.49    85.41   \n",
      "498 2024-02-29  Bananas   Produce         1        8.57     8.57   \n",
      "499 2024-02-29  Bananas   Produce        11        5.46    60.06   \n",
      "\n",
      "    Store_Location Year_Month  \n",
      "0        Abu Dhabi    2024-02  \n",
      "1          Sharjah    2024-01  \n",
      "2          Sharjah    2024-03  \n",
      "3            Dubai    2024-01  \n",
      "4            Dubai    2024-02  \n",
      "..             ...        ...  \n",
      "495         Al Ain    2024-03  \n",
      "496      Abu Dhabi    2024-01  \n",
      "497          Dubai    2024-03  \n",
      "498          Dubai    2024-02  \n",
      "499         Al Ain    2024-02  \n",
      "\n",
      "[500 rows x 8 columns]\n"
     ]
    }
   ],
   "source": [
    "df['Year_Month']=df['Date'].dt.to_period('M')\n",
    "print(df)"
   ]
  },
  {
   "cell_type": "code",
   "execution_count": 82,
   "id": "6072d985-532f-4a71-8a3f-29ec1f43921d",
   "metadata": {},
   "outputs": [
    {
     "name": "stdout",
     "output_type": "stream",
     "text": [
      "Year_Month\n",
      "2024-01     9209.08\n",
      "2024-02    10352.10\n",
      "2024-03     7581.13\n",
      "Freq: M, Name: Revenue, dtype: float64\n"
     ]
    },
    {
     "data": {
      "image/png": "[encoded data removed]",
      "text/plain": [
       "<Figure size 640x480 with 1 Axes>"
      ]
     },
     "metadata": {},
     "output_type": "display_data"
    }
   ],
   "source": [
    "Revenue_month=df.groupby('Year_Month')['Revenue'].sum()\n",
    "print(Revenue_month)\n",
    "Revenue_month.plot(kind='line', color='Blue', marker='o')\n",
    "plt.xlabel('Year and Month')\n",
    "plt.ylabel('Revenue')\n",
    "plt.xticks(rotation=20)\n",
    "plt.show()"
   ]
  },
  {
   "cell_type": "markdown",
   "id": "846270cc-6448-4888-815e-12f11757d44d",
   "metadata": {},
   "source": [
    "Which month had the highest total sales (revenue)?"
   ]
  },
  {
   "cell_type": "code",
   "execution_count": 27,
   "id": "1b868d10-c523-4e82-85e5-69ae353958c8",
   "metadata": {},
   "outputs": [
    {
     "data": {
      "text/plain": [
       "Year_Month\n",
       "2024-02    10352.1\n",
       "Freq: M, Name: Revenue, dtype: float64"
      ]
     },
     "execution_count": 27,
     "metadata": {},
     "output_type": "execute_result"
    }
   ],
   "source": [
    "df.groupby('Year_Month')['Revenue'].sum().sort_values(ascending=False).iloc[0:1]"
   ]
  },
  {
   "cell_type": "markdown",
   "id": "3cb3eb42-b99b-4be8-b98c-dc87ce4b0334",
   "metadata": {},
   "source": [
    "What is the average quantity sold per day?"
   ]
  },
  {
   "cell_type": "code",
   "execution_count": 36,
   "id": "b973138a-deb2-41f7-b920-d94361d719be",
   "metadata": {},
   "outputs": [
    {
     "name": "stdout",
     "output_type": "stream",
     "text": [
      "301.5812222222222\n"
     ]
    }
   ],
   "source": [
    "per_day=df.groupby('Date')['Revenue'].sum()\n",
    "average_sales_perday=per_day.mean()\n",
    "print(average_sales_perday)"
   ]
  },
  {
   "cell_type": "markdown",
   "id": "450cdb55-5613-47e8-912b-7499fd521ac0",
   "metadata": {},
   "source": [
    "What are the top 5 days with the highest revenue?"
   ]
  },
  {
   "cell_type": "code",
   "execution_count": 8,
   "id": "355c1d9b-51e6-4bec-ba70-20495de08c84",
   "metadata": {},
   "outputs": [
    {
     "name": "stdout",
     "output_type": "stream",
     "text": [
      "Date\n",
      "2024-02-01    875.28\n",
      "2024-02-02    751.34\n",
      "2024-01-26    655.68\n",
      "2024-03-12    598.60\n",
      "2024-02-26    567.62\n",
      "Name: Revenue, dtype: float64\n"
     ]
    },
    {
     "data": {
      "image/png": "[encoded data removed]",
      "text/plain": [
       "<Figure size 640x480 with 1 Axes>"
      ]
     },
     "metadata": {},
     "output_type": "display_data"
    },
    {
     "data": {
      "text/plain": [
       "Date\n",
       "2024-03-31     4.45\n",
       "2024-01-28    30.84\n",
       "2024-03-14    74.57\n",
       "2024-01-24    76.80\n",
       "2024-03-25    86.92\n",
       "Name: Revenue, dtype: float64"
      ]
     },
     "execution_count": 8,
     "metadata": {},
     "output_type": "execute_result"
    }
   ],
   "source": [
    "top_day=df.groupby('Date')['Revenue'].sum().sort_values(ascending=False).iloc[0:5]\n",
    "print(top_day)\n",
    "top_day.plot(kind='bar', color='red', edgecolor='black')\n",
    "plt.xlabel('Revenue')\n",
    "plt.ylabel('Date')\n",
    "plt.xticks(rotation=20)\n",
    "plt.tight_layout()\n",
    "plt.title('Top 5 Days with Highest Revenue')\n",
    "plt.show()\n",
    "df.groupby('Date')['Revenue'].sum().sort_values(ascending=True).iloc[0:5]\n"
   ]
  },
  {
   "cell_type": "markdown",
   "id": "72a97e21-16eb-4156-97d8-6c72afb72e75",
   "metadata": {},
   "source": [
    "Which product sold the most in quantity?"
   ]
  },
  {
   "cell_type": "code",
   "execution_count": 89,
   "id": "a18dd0f3-3df4-4c64-8e56-a04867d63571",
   "metadata": {},
   "outputs": [
    {
     "name": "stdout",
     "output_type": "stream",
     "text": [
      "Product\n",
      "Apples     559\n",
      "Bananas    522\n",
      "Bread      554\n",
      "Butter     748\n",
      "Cheese     712\n",
      "Name: Quantity, dtype: int64\n"
     ]
    },
    {
     "data": {
      "image/png": "[encoded data removed]",
      "text/plain": [
       "<Figure size 640x480 with 1 Axes>"
      ]
     },
     "metadata": {},
     "output_type": "display_data"
    }
   ],
   "source": [
    "most_sold=df.groupby('Product')['Quantity'].sum().head(5)\n",
    "print(most_sold)\n",
    "colors = ['red', 'blue', 'green', 'orange', 'purple']\n",
    "plt.pie(most_sold, labels=most_sold.index, colors=colors, autopct='%1.1f%%', startangle=90)\n",
    "plt.axis('equal')  # Make the pie chart circular\n",
    "plt.show()\n"
   ]
  },
  {
   "cell_type": "markdown",
   "id": "6943c8bf-7c12-4732-8912-c50e675635ab",
   "metadata": {},
   "source": [
    "Which product generated the highest revenue?"
   ]
  },
  {
   "cell_type": "code",
   "execution_count": 43,
   "id": "b944d55d-cdff-4050-a209-9445894fab00",
   "metadata": {},
   "outputs": [
    {
     "data": {
      "text/plain": [
       "Product\n",
       "Cheese    4189.53\n",
       "Name: Revenue, dtype: float64"
      ]
     },
     "execution_count": 43,
     "metadata": {},
     "output_type": "execute_result"
    }
   ],
   "source": [
    "df.groupby('Product')['Revenue'].sum().sort_values(ascending=False).iloc[0:1]"
   ]
  },
  {
   "cell_type": "markdown",
   "id": "b55da89b-3abb-44e0-b0f9-e5a3c71cbe3f",
   "metadata": {},
   "source": [
    "What is the average unit price per product or category?"
   ]
  },
  {
   "cell_type": "code",
   "execution_count": 47,
   "id": "c35cd962-19a5-453f-841c-70cc3bd8510b",
   "metadata": {},
   "outputs": [
    {
     "data": {
      "text/plain": [
       "Product\n",
       "Apples     5.097818\n",
       "Bananas    5.349091\n",
       "Bread      5.834219\n",
       "Butter     5.126154\n",
       "Cheese     5.467971\n",
       "Eggs       5.274423\n",
       "Juice      5.632540\n",
       "Milk       6.096406\n",
       "Name: Unit_Price, dtype: float64"
      ]
     },
     "execution_count": 47,
     "metadata": {},
     "output_type": "execute_result"
    }
   ],
   "source": [
    "df.groupby('Product')['Unit_Price'].mean()"
   ]
  },
  {
   "cell_type": "markdown",
   "id": "848dbf6d-ca46-44a4-9074-d0583fc9f682",
   "metadata": {},
   "source": [
    "Which category has the highest total revenue?"
   ]
  },
  {
   "cell_type": "code",
   "execution_count": 50,
   "id": "7c176d95-e162-4833-9f1c-dd5bb9afd6b1",
   "metadata": {},
   "outputs": [
    {
     "data": {
      "text/plain": [
       "Category\n",
       "Bakery       3550.82\n",
       "Beverage     3773.71\n",
       "Dairy       14229.58\n",
       "Produce      5588.20\n",
       "Name: Revenue, dtype: float64"
      ]
     },
     "execution_count": 50,
     "metadata": {},
     "output_type": "execute_result"
    }
   ],
   "source": [
    "df.groupby('Category')['Revenue'].sum()"
   ]
  },
  {
   "cell_type": "markdown",
   "id": "91392a51-55f8-49a2-8361-efaf3566d24e",
   "metadata": {},
   "source": [
    "What is the revenue per category per store?"
   ]
  },
  {
   "cell_type": "code",
   "execution_count": 52,
   "id": "3b5bef66-57ca-46b0-b2ec-191c28c7edfa",
   "metadata": {},
   "outputs": [
    {
     "data": {
      "text/plain": [
       "Category  Store_Location\n",
       "Bakery    Abu Dhabi         1115.82\n",
       "          Al Ain             596.45\n",
       "          Dubai              680.64\n",
       "          Sharjah           1157.91\n",
       "Beverage  Abu Dhabi          859.05\n",
       "          Al Ain             917.01\n",
       "          Dubai             1175.84\n",
       "          Sharjah            821.81\n",
       "Dairy     Abu Dhabi         3580.48\n",
       "          Al Ain            3423.42\n",
       "          Dubai             3691.86\n",
       "          Sharjah           3533.82\n",
       "Produce   Abu Dhabi          974.54\n",
       "          Al Ain            1740.81\n",
       "          Dubai             1711.65\n",
       "          Sharjah           1161.20\n",
       "Name: Revenue, dtype: float64"
      ]
     },
     "execution_count": 52,
     "metadata": {},
     "output_type": "execute_result"
    }
   ],
   "source": [
    "df.groupby(['Category', 'Store_Location'])['Revenue'].sum()"
   ]
  },
  {
   "cell_type": "markdown",
   "id": "8fe7c10d-ce72-46bf-a31b-d49802a17e7a",
   "metadata": {},
   "source": [
    "Which store location has the highest revenue?"
   ]
  },
  {
   "cell_type": "code",
   "execution_count": 53,
   "id": "76c20777-b08b-40c2-aa7b-f0e1d64119ef",
   "metadata": {},
   "outputs": [
    {
     "data": {
      "text/plain": [
       "Store_Location\n",
       "Dubai    7259.99\n",
       "Name: Revenue, dtype: float64"
      ]
     },
     "execution_count": 53,
     "metadata": {},
     "output_type": "execute_result"
    }
   ],
   "source": [
    "df.groupby('Store_Location')['Revenue'].sum().sort_values(ascending=False).head(1)"
   ]
  },
  {
   "cell_type": "markdown",
   "id": "d18819a7-ee93-4fb4-9c7d-0e34be7d5a4e",
   "metadata": {},
   "source": [
    "Which store sells the most quantity of products?"
   ]
  },
  {
   "cell_type": "code",
   "execution_count": 54,
   "id": "3552f89f-34db-4b29-9ed1-39ef5e253a0c",
   "metadata": {},
   "outputs": [
    {
     "data": {
      "text/plain": [
       "Store_Location\n",
       "Abu Dhabi    1172\n",
       "Al Ain       1117\n",
       "Dubai        1362\n",
       "Sharjah      1204\n",
       "Name: Quantity, dtype: int64"
      ]
     },
     "execution_count": 54,
     "metadata": {},
     "output_type": "execute_result"
    }
   ],
   "source": [
    "df.groupby('Store_Location')['Quantity'].sum()"
   ]
  },
  {
   "cell_type": "markdown",
   "id": "3a1287e6-6ecb-48e6-acf6-d48ee9fa4548",
   "metadata": {},
   "source": [
    "What are the top 3 products sold in each store?"
   ]
  },
  {
   "cell_type": "code",
   "execution_count": 61,
   "id": "84cc0839-0678-43c7-a71d-a4052e04c133",
   "metadata": {},
   "outputs": [
    {
     "data": {
      "text/html": [
       "<div>\n",
       "<style scoped>\n",
       "    .dataframe tbody tr th:only-of-type {\n",
       "        vertical-align: middle;\n",
       "    }\n",
       "\n",
       "    .dataframe tbody tr th {\n",
       "        vertical-align: top;\n",
       "    }\n",
       "\n",
       "    .dataframe thead th {\n",
       "        text-align: right;\n",
       "    }\n",
       "</style>\n",
       "<table border=\"1\" class=\"dataframe\">\n",
       "  <thead>\n",
       "    <tr style=\"text-align: right;\">\n",
       "      <th></th>\n",
       "      <th>Store_Location</th>\n",
       "      <th>Product</th>\n",
       "      <th>counts</th>\n",
       "    </tr>\n",
       "  </thead>\n",
       "  <tbody>\n",
       "    <tr>\n",
       "      <th>2</th>\n",
       "      <td>Abu Dhabi</td>\n",
       "      <td>Bread</td>\n",
       "      <td>23</td>\n",
       "    </tr>\n",
       "    <tr>\n",
       "      <th>4</th>\n",
       "      <td>Abu Dhabi</td>\n",
       "      <td>Cheese</td>\n",
       "      <td>21</td>\n",
       "    </tr>\n",
       "    <tr>\n",
       "      <th>7</th>\n",
       "      <td>Abu Dhabi</td>\n",
       "      <td>Milk</td>\n",
       "      <td>18</td>\n",
       "    </tr>\n",
       "    <tr>\n",
       "      <th>9</th>\n",
       "      <td>Al Ain</td>\n",
       "      <td>Bananas</td>\n",
       "      <td>22</td>\n",
       "    </tr>\n",
       "    <tr>\n",
       "      <th>11</th>\n",
       "      <td>Al Ain</td>\n",
       "      <td>Butter</td>\n",
       "      <td>19</td>\n",
       "    </tr>\n",
       "    <tr>\n",
       "      <th>12</th>\n",
       "      <td>Al Ain</td>\n",
       "      <td>Cheese</td>\n",
       "      <td>12</td>\n",
       "    </tr>\n",
       "    <tr>\n",
       "      <th>16</th>\n",
       "      <td>Dubai</td>\n",
       "      <td>Apples</td>\n",
       "      <td>26</td>\n",
       "    </tr>\n",
       "    <tr>\n",
       "      <th>19</th>\n",
       "      <td>Dubai</td>\n",
       "      <td>Butter</td>\n",
       "      <td>20</td>\n",
       "    </tr>\n",
       "    <tr>\n",
       "      <th>20</th>\n",
       "      <td>Dubai</td>\n",
       "      <td>Cheese</td>\n",
       "      <td>19</td>\n",
       "    </tr>\n",
       "    <tr>\n",
       "      <th>27</th>\n",
       "      <td>Sharjah</td>\n",
       "      <td>Butter</td>\n",
       "      <td>22</td>\n",
       "    </tr>\n",
       "    <tr>\n",
       "      <th>30</th>\n",
       "      <td>Sharjah</td>\n",
       "      <td>Juice</td>\n",
       "      <td>18</td>\n",
       "    </tr>\n",
       "    <tr>\n",
       "      <th>28</th>\n",
       "      <td>Sharjah</td>\n",
       "      <td>Cheese</td>\n",
       "      <td>17</td>\n",
       "    </tr>\n",
       "  </tbody>\n",
       "</table>\n",
       "</div>"
      ],
      "text/plain": [
       "   Store_Location  Product  counts\n",
       "2       Abu Dhabi    Bread      23\n",
       "4       Abu Dhabi   Cheese      21\n",
       "7       Abu Dhabi     Milk      18\n",
       "9          Al Ain  Bananas      22\n",
       "11         Al Ain   Butter      19\n",
       "12         Al Ain   Cheese      12\n",
       "16          Dubai   Apples      26\n",
       "19          Dubai   Butter      20\n",
       "20          Dubai   Cheese      19\n",
       "27        Sharjah   Butter      22\n",
       "30        Sharjah    Juice      18\n",
       "28        Sharjah   Cheese      17"
      ]
     },
     "execution_count": 61,
     "metadata": {},
     "output_type": "execute_result"
    }
   ],
   "source": [
    "df.groupby(['Store_Location', 'Product']).size() \\\n",
    "  .reset_index(name='counts') \\\n",
    "  .sort_values(['Store_Location', 'counts'], ascending=[True, False]) \\\n",
    "  .groupby('Store_Location') \\\n",
    "  .head(3)\n"
   ]
  },
  {
   "cell_type": "markdown",
   "id": "0c1f4012-bfdb-4283-97cf-37f9545be714",
   "metadata": {},
   "source": [
    "What is the average revenue per transaction?"
   ]
  },
  {
   "cell_type": "code",
   "execution_count": 63,
   "id": "b41d5fb8-4350-4d4e-83ab-8bfe355638e2",
   "metadata": {},
   "outputs": [
    {
     "data": {
      "text/plain": [
       "np.float64(54.28462)"
      ]
     },
     "execution_count": 63,
     "metadata": {},
     "output_type": "execute_result"
    }
   ],
   "source": [
    "df['Revenue'].mean()"
   ]
  },
  {
   "cell_type": "markdown",
   "id": "1c2d05bd-37a5-47bc-a265-ce363a1d14fe",
   "metadata": {},
   "source": [
    "What is the average quantity per sale by product?"
   ]
  },
  {
   "cell_type": "code",
   "execution_count": 64,
   "id": "c105316a-d342-4a95-a819-64ae457e81a8",
   "metadata": {},
   "outputs": [
    {
     "data": {
      "text/plain": [
       "Product\n",
       "Apples     10.163636\n",
       "Bananas     9.490909\n",
       "Bread       8.656250\n",
       "Butter      9.589744\n",
       "Cheese     10.318841\n",
       "Eggs        9.365385\n",
       "Juice      10.825397\n",
       "Milk        9.234375\n",
       "Name: Quantity, dtype: float64"
      ]
     },
     "execution_count": 64,
     "metadata": {},
     "output_type": "execute_result"
    }
   ],
   "source": [
    "df.groupby('Product')['Quantity'].mean()"
   ]
  },
  {
   "cell_type": "markdown",
   "id": "9bb36346-1cd8-43c8-82e7-59d5a2acd760",
   "metadata": {},
   "source": [
    "What is the total revenue by Store_Location and Category?"
   ]
  },
  {
   "cell_type": "code",
   "execution_count": 66,
   "id": "2a2b0e12-264a-4db2-8029-c040650f690a",
   "metadata": {},
   "outputs": [
    {
     "data": {
      "text/plain": [
       "Store_Location  Category\n",
       "Abu Dhabi       Bakery      1115.82\n",
       "                Beverage     859.05\n",
       "                Dairy       3580.48\n",
       "                Produce      974.54\n",
       "Al Ain          Bakery       596.45\n",
       "                Beverage     917.01\n",
       "                Dairy       3423.42\n",
       "                Produce     1740.81\n",
       "Dubai           Bakery       680.64\n",
       "                Beverage    1175.84\n",
       "                Dairy       3691.86\n",
       "                Produce     1711.65\n",
       "Sharjah         Bakery      1157.91\n",
       "                Beverage     821.81\n",
       "                Dairy       3533.82\n",
       "                Produce     1161.20\n",
       "Name: Revenue, dtype: float64"
      ]
     },
     "execution_count": 66,
     "metadata": {},
     "output_type": "execute_result"
    }
   ],
   "source": [
    "df.groupby(['Store_Location', 'Category'])['Revenue'].sum()"
   ]
  },
  {
   "cell_type": "markdown",
   "id": "5b164399-d6fc-43b4-b524-0ec1252e51dd",
   "metadata": {},
   "source": [
    "What is the total quantity sold by Product and Store_Location?"
   ]
  },
  {
   "cell_type": "code",
   "execution_count": 67,
   "id": "cbc20771-ddbf-4f1c-9392-7dae7a86f333",
   "metadata": {},
   "outputs": [
    {
     "data": {
      "text/plain": [
       "Store_Location  Product\n",
       "Abu Dhabi       Apples      79\n",
       "                Bananas    100\n",
       "                Bread      184\n",
       "                Butter     152\n",
       "                Cheese     208\n",
       "                Eggs       118\n",
       "                Juice      168\n",
       "                Milk       163\n",
       "Al Ain          Apples     115\n",
       "                Bananas    205\n",
       "                Bread       84\n",
       "                Butter     207\n",
       "                Cheese     153\n",
       "                Eggs        84\n",
       "                Juice      137\n",
       "                Milk       132\n",
       "Dubai           Apples     241\n",
       "                Bananas    118\n",
       "                Bread      116\n",
       "                Butter     169\n",
       "                Cheese     193\n",
       "                Eggs       171\n",
       "                Juice      195\n",
       "                Milk       159\n",
       "Sharjah         Apples     124\n",
       "                Bananas     99\n",
       "                Bread      170\n",
       "                Butter     220\n",
       "                Cheese     158\n",
       "                Eggs       114\n",
       "                Juice      182\n",
       "                Milk       137\n",
       "Name: Quantity, dtype: int64"
      ]
     },
     "execution_count": 67,
     "metadata": {},
     "output_type": "execute_result"
    }
   ],
   "source": [
    "df.groupby(['Store_Location', 'Product'])['Quantity'].sum()"
   ]
  },
  {
   "cell_type": "code",
   "execution_count": null,
   "id": "8a2ca747-9e9a-45fa-bc18-ef065b957b67",
   "metadata": {},
   "outputs": [],
   "source": [
    "Revenue by Store"
   ]
  },
  {
   "cell_type": "code",
   "execution_count": 7,
   "id": "7c078ba6-102a-4ac8-b318-7a74f583b763",
   "metadata": {},
   "outputs": [
    {
     "data": {
      "text/plain": [
       "Store_Location\n",
       "Dubai        7259.99\n",
       "Al Ain       6677.69\n",
       "Sharjah      6674.74\n",
       "Abu Dhabi    6529.89\n",
       "Name: Revenue, dtype: float64"
      ]
     },
     "execution_count": 7,
     "metadata": {},
     "output_type": "execute_result"
    }
   ],
   "source": [
    "df.groupby('Store_Location')['Revenue'].sum().sort_values(ascending=False)"
   ]
  },
  {
   "cell_type": "markdown",
   "id": "7246bbd3-559f-45c4-b905-7afd72892e56",
   "metadata": {},
   "source": [
    "What is the monthly revenue by Store_Location?\n",
    "\n"
   ]
  },
  {
   "cell_type": "code",
   "execution_count": 68,
   "id": "f4984e18-030a-4675-b216-7b7a47dc4ff6",
   "metadata": {},
   "outputs": [
    {
     "data": {
      "text/plain": [
       "Store_Location  Year_Month\n",
       "Abu Dhabi       2024-01       2305.09\n",
       "                2024-02       2123.37\n",
       "                2024-03       2101.43\n",
       "Al Ain          2024-01       1554.44\n",
       "                2024-02       3409.77\n",
       "                2024-03       1713.48\n",
       "Dubai           2024-01       2372.29\n",
       "                2024-02       2820.87\n",
       "                2024-03       2066.83\n",
       "Sharjah         2024-01       2977.26\n",
       "                2024-02       1998.09\n",
       "                2024-03       1699.39\n",
       "Name: Revenue, dtype: float64"
      ]
     },
     "execution_count": 68,
     "metadata": {},
     "output_type": "execute_result"
    }
   ],
   "source": [
    "df.groupby(['Store_Location','Year_Month'])['Revenue'].sum()"
   ]
  },
  {
   "cell_type": "markdown",
   "id": "179a7098-9719-47c6-9b2a-ae3af0f1d33a",
   "metadata": {},
   "source": [
    "#Summary"
   ]
  },
  {
   "cell_type": "markdown",
   "id": "660e6dba-cea4-43b2-a2cb-f512c65f7374",
   "metadata": {},
   "source": [
    "Total Revenue per Month:\n",
    "January: AED 9,209.08\n",
    "February: AED 10,352.10\n",
    "March: AED 7,581.13\n",
    "\n",
    "Top Performing Store by Revenue:\n",
    "Dubai generated the highest revenue: AED 7,259.99\n",
    "\n",
    "Top-Selling Product by Revenue:\n",
    "Cheese with total revenue of AED 4,189.53\n",
    "\n",
    "Most Sold Product by Quantity:\n",
    "Apples with a total quantity of 559 units\n",
    "\n",
    "Best Sales Day:\n",
    "February 1, 2024 with revenue of AED 875.28\n",
    "\n",
    "Average Revenue per Transaction:\n",
    "AED 54.28\n",
    "\n",
    "City with Highest Product Quantity Sold:\n",
    "Dubai with 1,362 units sold"
   ]
  },
  {
   "cell_type": "code",
   "execution_count": null,
   "id": "da62035c-30c6-4707-8498-7a72ce84c3c0",
   "metadata": {},
   "outputs": [],
   "source": [
    "POINT TO BE NOTED:\n",
    "Abu Dhabi is the lowest selling store which is 6529.89 and need to push more sales as compare to other store.\n",
    "May be store should apply some additonal discount or more offer to increase sales.\n",
    "The Lowest sales as per day is may 31 and at the end of may there should be more giveaways or more advertisment on promotion.\n",
    "Cheese is the most Revenue generated items but less  selling items too.\n"
   ]
  }
 ],
 "metadata": {
  "kernelspec": {
   "display_name": "Python 3 (ipykernel)",
   "language": "python",
   "name": "python3"
  },
  "language_info": {
   "codemirror_mode": {
    "name": "ipython",
    "version": 3
   },
   "file_extension": ".py",
   "mimetype": "text/x-python",
   "name": "python",
   "nbconvert_exporter": "python",
   "pygments_lexer": "ipython3",
   "version": "3.12.7"
  }
 },
 "nbformat": 4,
 "nbformat_minor": 5
}
